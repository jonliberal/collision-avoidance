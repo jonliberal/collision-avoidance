{
 "cells": [
  {
   "cell_type": "code",
   "execution_count": 34,
   "metadata": {},
   "outputs": [],
   "source": [
    "import pygame\n",
    "pygame.init()\n",
    "\n",
    "width = 800\n",
    "height = 600\n",
    "\n",
    "black = (0,0,0)\n",
    "white = (255,255,255)\n",
    "red = (255,0,0)\n",
    "\n",
    "def car(x,y):\n",
    "    gameDisplay.fill(white)\n",
    "    gameDisplay.blit(carImg, (x,y))"
   ]
  },
  {
   "cell_type": "code",
   "execution_count": 35,
   "metadata": {},
   "outputs": [],
   "source": [
    "gameDisplay = pygame.display.set_mode((width, height))\n",
    "gameDisplay.fill(white)\n",
    "pygame.display.set_caption('Oscariz Racing')\n",
    "clock = pygame.time.Clock()\n",
    "\n",
    "carImg = pygame.image.load('car.png')\n",
    "carImg = pygame.transform.rotozoom(carImg, 0, 0.05)"
   ]
  },
  {
   "cell_type": "code",
   "execution_count": 2,
   "metadata": {
    "scrolled": true
   },
   "outputs": [
    {
     "data": {
      "text/plain": [
       "(6, 0)"
      ]
     },
     "execution_count": 2,
     "metadata": {},
     "output_type": "execute_result"
    }
   ],
   "source": [
    "pygame.init()"
   ]
  },
  {
   "cell_type": "code",
   "execution_count": 31,
   "metadata": {},
   "outputs": [],
   "source": [
    "def car(x,y):\n",
    "    gameDisplay.fill(white)\n",
    "    gameDisplay.blit(carImg, (x,y))"
   ]
  },
  {
   "cell_type": "code",
   "execution_count": 32,
   "metadata": {},
   "outputs": [
    {
     "data": {
      "text/plain": [
       "'\\ncrashed = False\\nwhile not crashed:\\n    for event in pygame.event.get():\\n        if event.type == pygame.QUIT:\\n            crashed = True\\n    pygame.display.update()\\npygame.quit()\\n'"
      ]
     },
     "execution_count": 32,
     "metadata": {},
     "output_type": "execute_result"
    }
   ],
   "source": [
    "width = 800\n",
    "height = 600\n",
    "\n",
    "black = (0,0,0)\n",
    "white = (255,255,255)\n",
    "red = (255,0,0)\n",
    "\n",
    "gameDisplay = pygame.display.set_mode((width, height))\n",
    "gameDisplay.fill(white)\n",
    "pygame.display.set_caption('Oscariz Racing')\n",
    "clock = pygame.time.Clock()\n",
    "\n",
    "carImg = pygame.image.load('car.png')\n",
    "carImg = pygame.transform.rotozoom(carImg, 0, 0.05)\n",
    "\n",
    "\n",
    "x = (width*0.5)\n",
    "y = (height*0.85)\n",
    "car(x,y)\n",
    "\"\"\"\n",
    "crashed = False\n",
    "while not crashed:\n",
    "    for event in pygame.event.get():\n",
    "        if event.type == pygame.QUIT:\n",
    "            crashed = True\n",
    "    pygame.display.update()\n",
    "pygame.quit()\n",
    "\"\"\"\n",
    "            "
   ]
  },
  {
   "cell_type": "code",
   "execution_count": 33,
   "metadata": {},
   "outputs": [],
   "source": [
    "x = (width*0.2)\n",
    "y = (height*0.15)\n",
    "car(x,y)\n",
    "pygame.display.update()\n"
   ]
  },
  {
   "cell_type": "code",
   "execution_count": 24,
   "metadata": {},
   "outputs": [],
   "source": [
    "pygame.quit()"
   ]
  },
  {
   "cell_type": "code",
   "execution_count": 27,
   "metadata": {},
   "outputs": [
    {
     "data": {
      "text/plain": [
       "69569"
      ]
     },
     "execution_count": 27,
     "metadata": {},
     "output_type": "execute_result"
    }
   ],
   "source": [
    "clock.tick(60)"
   ]
  },
  {
   "cell_type": "code",
   "execution_count": null,
   "metadata": {},
   "outputs": [],
   "source": []
  }
 ],
 "metadata": {
  "kernelspec": {
   "display_name": "Python 3",
   "language": "python",
   "name": "python3"
  },
  "language_info": {
   "codemirror_mode": {
    "name": "ipython",
    "version": 3
   },
   "file_extension": ".py",
   "mimetype": "text/x-python",
   "name": "python",
   "nbconvert_exporter": "python",
   "pygments_lexer": "ipython3",
   "version": "3.6.9"
  }
 },
 "nbformat": 4,
 "nbformat_minor": 2
}
